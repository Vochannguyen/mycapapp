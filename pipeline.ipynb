{
 "cells": [
  {
   "cell_type": "markdown",
   "metadata": {},
   "source": [
    "### Load Packages"
   ]
  },
  {
   "cell_type": "code",
   "execution_count": 2,
   "metadata": {},
   "outputs": [],
   "source": [
    "import os\n",
    "import openai\n",
    "from scipy.spatial import distance\n",
    "import plotly.express as px\n",
    "from sklearn.cluster import KMeans\n",
    "from umap import UMAP"
   ]
  },
  {
   "cell_type": "code",
   "execution_count": 41,
   "metadata": {},
   "outputs": [
    {
     "name": "stdout",
     "output_type": "stream",
     "text": [
      "sk-0Zc7LOdabqS5DtOIkENUT3BlbkFJ941DWQYDHCv6mK9I\n"
     ]
    }
   ],
   "source": [
    "from dotenv import load_dotenv\n",
    "\n",
    "load_dotenv('./dev.env')\n",
    "\n",
    "print(os.getenv(\"OPENAI_API_KEY\"))\n"
   ]
  },
  {
   "cell_type": "code",
   "execution_count": 47,
   "metadata": {},
   "outputs": [
    {
     "name": "stdout",
     "output_type": "stream",
     "text": [
      "sk-0Zc7LOdabqS5DtOIkENUT3BlbkFJ941DWQYDHCv6mK9I\n"
     ]
    }
   ],
   "source": [
    "from dotenv import load_dotenv\n",
    "\n",
    "load_dotenv(dotenv_path='dev.env')\n",
    "\n",
    "print(os.getenv(\"OPENAI_API_KEY\"))\n"
   ]
  },
  {
   "cell_type": "code",
   "execution_count": 51,
   "metadata": {},
   "outputs": [],
   "source": [
    "import openai\n",
    "client = openai.OpenAI(\n",
    "   api_key=openai.api_key\n",
    ")\n",
    "\n",
    "def get_embedding(text, model=\"text-embedding-3-small\"):\n",
    "   text = text.replace(\"\\n\", \" \")\n",
    "   return client.embeddings.create(input=[text], model=model).data[0].embedding"
   ]
  },
  {
   "cell_type": "markdown",
   "metadata": {},
   "source": [
    "### Load Dataset"
   ]
  },
  {
   "cell_type": "code",
   "execution_count": 25,
   "metadata": {},
   "outputs": [
    {
     "data": {
      "text/plain": [
       "message    78\n",
       "dtype: int64"
      ]
     },
     "execution_count": 25,
     "metadata": {},
     "output_type": "execute_result"
    }
   ],
   "source": [
    "import pandas as pd\n",
    "\n",
    "review_df = pd.read_csv(\"data4.csv\", encoding='latin1')\n",
    "df = review_df[[\"message\"]]\n",
    "df.count()"
   ]
  },
  {
   "cell_type": "markdown",
   "metadata": {},
   "source": [
    "### Get Text Embeddings from Error logs"
   ]
  },
  {
   "cell_type": "code",
   "execution_count": 69,
   "metadata": {},
   "outputs": [
    {
     "data": {
      "text/html": [
       "<div>\n",
       "<style scoped>\n",
       "    .dataframe tbody tr th:only-of-type {\n",
       "        vertical-align: middle;\n",
       "    }\n",
       "\n",
       "    .dataframe tbody tr th {\n",
       "        vertical-align: top;\n",
       "    }\n",
       "\n",
       "    .dataframe thead th {\n",
       "        text-align: right;\n",
       "    }\n",
       "</style>\n",
       "<table border=\"1\" class=\"dataframe\">\n",
       "  <thead>\n",
       "    <tr style=\"text-align: right;\">\n",
       "      <th></th>\n",
       "      <th>message</th>\n",
       "      <th>embedding</th>\n",
       "    </tr>\n",
       "  </thead>\n",
       "  <tbody>\n",
       "    <tr>\n",
       "      <th>0</th>\n",
       "      <td>\"Faulting messaging object due to an error. Na...</td>\n",
       "      <td>[-0.015120312571525574, 0.003530361922457814, ...</td>\n",
       "    </tr>\n",
       "    <tr>\n",
       "      <th>1</th>\n",
       "      <td>\"Aborting messaging object. Name = srikandi:qu...</td>\n",
       "      <td>[-0.02315927855670452, 0.04029439762234688, 0....</td>\n",
       "    </tr>\n",
       "    <tr>\n",
       "      <th>2</th>\n",
       "      <td>\"Aborting messaging object. Name = srikandi:Qu...</td>\n",
       "      <td>[-0.024547232314944267, 0.05129839479923248, 0...</td>\n",
       "    </tr>\n",
       "    <tr>\n",
       "      <th>3</th>\n",
       "      <td>\"Faulting messaging object due to an error. Na...</td>\n",
       "      <td>[-0.016832994297146797, 0.0037243624683469534,...</td>\n",
       "    </tr>\n",
       "    <tr>\n",
       "      <th>4</th>\n",
       "      <td>\"Faulting messaging object due to an error. Na...</td>\n",
       "      <td>[-0.026517968624830246, 0.0393458716571331, 0....</td>\n",
       "    </tr>\n",
       "    <tr>\n",
       "      <th>5</th>\n",
       "      <td>\"An exception was handled. TrackingId: 9531470...</td>\n",
       "      <td>[-0.01762230694293976, 0.03339536115527153, 0....</td>\n",
       "    </tr>\n",
       "    <tr>\n",
       "      <th>6</th>\n",
       "      <td>\"Aborting messaging object. Name = srikandi:qu...</td>\n",
       "      <td>[-0.025672094896435738, 0.04192393273115158, 0...</td>\n",
       "    </tr>\n",
       "    <tr>\n",
       "      <th>7</th>\n",
       "      <td>\"Aborting messaging object. Name = srikandi:Qu...</td>\n",
       "      <td>[-0.026734808459877968, 0.051062215119600296, ...</td>\n",
       "    </tr>\n",
       "    <tr>\n",
       "      <th>8</th>\n",
       "      <td>\"Aborting messaging object. Name = bl-uat-mode...</td>\n",
       "      <td>[-0.0180745217949152, 0.06595976650714874, 0.0...</td>\n",
       "    </tr>\n",
       "    <tr>\n",
       "      <th>9</th>\n",
       "      <td>\"Aborting messaging object. Name = bl-uat-mode...</td>\n",
       "      <td>[-0.011245463974773884, 0.07717191427946091, -...</td>\n",
       "    </tr>\n",
       "  </tbody>\n",
       "</table>\n",
       "</div>"
      ],
      "text/plain": [
       "                                             message  \\\n",
       "0  \"Faulting messaging object due to an error. Na...   \n",
       "1  \"Aborting messaging object. Name = srikandi:qu...   \n",
       "2  \"Aborting messaging object. Name = srikandi:Qu...   \n",
       "3  \"Faulting messaging object due to an error. Na...   \n",
       "4  \"Faulting messaging object due to an error. Na...   \n",
       "5  \"An exception was handled. TrackingId: 9531470...   \n",
       "6  \"Aborting messaging object. Name = srikandi:qu...   \n",
       "7  \"Aborting messaging object. Name = srikandi:Qu...   \n",
       "8  \"Aborting messaging object. Name = bl-uat-mode...   \n",
       "9  \"Aborting messaging object. Name = bl-uat-mode...   \n",
       "\n",
       "                                           embedding  \n",
       "0  [-0.015120312571525574, 0.003530361922457814, ...  \n",
       "1  [-0.02315927855670452, 0.04029439762234688, 0....  \n",
       "2  [-0.024547232314944267, 0.05129839479923248, 0...  \n",
       "3  [-0.016832994297146797, 0.0037243624683469534,...  \n",
       "4  [-0.026517968624830246, 0.0393458716571331, 0....  \n",
       "5  [-0.01762230694293976, 0.03339536115527153, 0....  \n",
       "6  [-0.025672094896435738, 0.04192393273115158, 0...  \n",
       "7  [-0.026734808459877968, 0.051062215119600296, ...  \n",
       "8  [-0.0180745217949152, 0.06595976650714874, 0.0...  \n",
       "9  [-0.011245463974773884, 0.07717191427946091, -...  "
      ]
     },
     "execution_count": 69,
     "metadata": {},
     "output_type": "execute_result"
    }
   ],
   "source": [
    "# Assuming get_embedding function is defined elsewhere and correctly takes a text input and a model name\n",
    "df['embedding'] = df['message'].apply(lambda x: get_embedding(x, model='text-embedding-3-small'))\n",
    "\n",
    "# Make the index start from 0 and ensure the change is saved\n",
    "df = df.reset_index(drop=True)\n",
    "\n",
    "df.head(10)"
   ]
  },
  {
   "cell_type": "code",
   "execution_count": 77,
   "metadata": {},
   "outputs": [],
   "source": [
    "df.to_csv('output/embeddings.csv', index=False)\n"
   ]
  },
  {
   "cell_type": "markdown",
   "metadata": {},
   "source": [
    "### Visualize Clusters"
   ]
  },
  {
   "cell_type": "code",
   "execution_count": 70,
   "metadata": {},
   "outputs": [],
   "source": [
    "kmeans = KMeans(n_clusters=8)\n"
   ]
  },
  {
   "cell_type": "code",
   "execution_count": 71,
   "metadata": {},
   "outputs": [],
   "source": [
    "import numpy as np\n",
    "embeddings = np.stack(df['embedding'].values)\n"
   ]
  },
  {
   "cell_type": "code",
   "execution_count": 73,
   "metadata": {},
   "outputs": [
    {
     "data": {
      "text/html": [
       "<style>#sk-container-id-1 {\n",
       "  /* Definition of color scheme common for light and dark mode */\n",
       "  --sklearn-color-text: black;\n",
       "  --sklearn-color-line: gray;\n",
       "  /* Definition of color scheme for unfitted estimators */\n",
       "  --sklearn-color-unfitted-level-0: #fff5e6;\n",
       "  --sklearn-color-unfitted-level-1: #f6e4d2;\n",
       "  --sklearn-color-unfitted-level-2: #ffe0b3;\n",
       "  --sklearn-color-unfitted-level-3: chocolate;\n",
       "  /* Definition of color scheme for fitted estimators */\n",
       "  --sklearn-color-fitted-level-0: #f0f8ff;\n",
       "  --sklearn-color-fitted-level-1: #d4ebff;\n",
       "  --sklearn-color-fitted-level-2: #b3dbfd;\n",
       "  --sklearn-color-fitted-level-3: cornflowerblue;\n",
       "\n",
       "  /* Specific color for light theme */\n",
       "  --sklearn-color-text-on-default-background: var(--sg-text-color, var(--theme-code-foreground, var(--jp-content-font-color1, black)));\n",
       "  --sklearn-color-background: var(--sg-background-color, var(--theme-background, var(--jp-layout-color0, white)));\n",
       "  --sklearn-color-border-box: var(--sg-text-color, var(--theme-code-foreground, var(--jp-content-font-color1, black)));\n",
       "  --sklearn-color-icon: #696969;\n",
       "\n",
       "  @media (prefers-color-scheme: dark) {\n",
       "    /* Redefinition of color scheme for dark theme */\n",
       "    --sklearn-color-text-on-default-background: var(--sg-text-color, var(--theme-code-foreground, var(--jp-content-font-color1, white)));\n",
       "    --sklearn-color-background: var(--sg-background-color, var(--theme-background, var(--jp-layout-color0, #111)));\n",
       "    --sklearn-color-border-box: var(--sg-text-color, var(--theme-code-foreground, var(--jp-content-font-color1, white)));\n",
       "    --sklearn-color-icon: #878787;\n",
       "  }\n",
       "}\n",
       "\n",
       "#sk-container-id-1 {\n",
       "  color: var(--sklearn-color-text);\n",
       "}\n",
       "\n",
       "#sk-container-id-1 pre {\n",
       "  padding: 0;\n",
       "}\n",
       "\n",
       "#sk-container-id-1 input.sk-hidden--visually {\n",
       "  border: 0;\n",
       "  clip: rect(1px 1px 1px 1px);\n",
       "  clip: rect(1px, 1px, 1px, 1px);\n",
       "  height: 1px;\n",
       "  margin: -1px;\n",
       "  overflow: hidden;\n",
       "  padding: 0;\n",
       "  position: absolute;\n",
       "  width: 1px;\n",
       "}\n",
       "\n",
       "#sk-container-id-1 div.sk-dashed-wrapped {\n",
       "  border: 1px dashed var(--sklearn-color-line);\n",
       "  margin: 0 0.4em 0.5em 0.4em;\n",
       "  box-sizing: border-box;\n",
       "  padding-bottom: 0.4em;\n",
       "  background-color: var(--sklearn-color-background);\n",
       "}\n",
       "\n",
       "#sk-container-id-1 div.sk-container {\n",
       "  /* jupyter's `normalize.less` sets `[hidden] { display: none; }`\n",
       "     but bootstrap.min.css set `[hidden] { display: none !important; }`\n",
       "     so we also need the `!important` here to be able to override the\n",
       "     default hidden behavior on the sphinx rendered scikit-learn.org.\n",
       "     See: https://github.com/scikit-learn/scikit-learn/issues/21755 */\n",
       "  display: inline-block !important;\n",
       "  position: relative;\n",
       "}\n",
       "\n",
       "#sk-container-id-1 div.sk-text-repr-fallback {\n",
       "  display: none;\n",
       "}\n",
       "\n",
       "div.sk-parallel-item,\n",
       "div.sk-serial,\n",
       "div.sk-item {\n",
       "  /* draw centered vertical line to link estimators */\n",
       "  background-image: linear-gradient(var(--sklearn-color-text-on-default-background), var(--sklearn-color-text-on-default-background));\n",
       "  background-size: 2px 100%;\n",
       "  background-repeat: no-repeat;\n",
       "  background-position: center center;\n",
       "}\n",
       "\n",
       "/* Parallel-specific style estimator block */\n",
       "\n",
       "#sk-container-id-1 div.sk-parallel-item::after {\n",
       "  content: \"\";\n",
       "  width: 100%;\n",
       "  border-bottom: 2px solid var(--sklearn-color-text-on-default-background);\n",
       "  flex-grow: 1;\n",
       "}\n",
       "\n",
       "#sk-container-id-1 div.sk-parallel {\n",
       "  display: flex;\n",
       "  align-items: stretch;\n",
       "  justify-content: center;\n",
       "  background-color: var(--sklearn-color-background);\n",
       "  position: relative;\n",
       "}\n",
       "\n",
       "#sk-container-id-1 div.sk-parallel-item {\n",
       "  display: flex;\n",
       "  flex-direction: column;\n",
       "}\n",
       "\n",
       "#sk-container-id-1 div.sk-parallel-item:first-child::after {\n",
       "  align-self: flex-end;\n",
       "  width: 50%;\n",
       "}\n",
       "\n",
       "#sk-container-id-1 div.sk-parallel-item:last-child::after {\n",
       "  align-self: flex-start;\n",
       "  width: 50%;\n",
       "}\n",
       "\n",
       "#sk-container-id-1 div.sk-parallel-item:only-child::after {\n",
       "  width: 0;\n",
       "}\n",
       "\n",
       "/* Serial-specific style estimator block */\n",
       "\n",
       "#sk-container-id-1 div.sk-serial {\n",
       "  display: flex;\n",
       "  flex-direction: column;\n",
       "  align-items: center;\n",
       "  background-color: var(--sklearn-color-background);\n",
       "  padding-right: 1em;\n",
       "  padding-left: 1em;\n",
       "}\n",
       "\n",
       "\n",
       "/* Toggleable style: style used for estimator/Pipeline/ColumnTransformer box that is\n",
       "clickable and can be expanded/collapsed.\n",
       "- Pipeline and ColumnTransformer use this feature and define the default style\n",
       "- Estimators will overwrite some part of the style using the `sk-estimator` class\n",
       "*/\n",
       "\n",
       "/* Pipeline and ColumnTransformer style (default) */\n",
       "\n",
       "#sk-container-id-1 div.sk-toggleable {\n",
       "  /* Default theme specific background. It is overwritten whether we have a\n",
       "  specific estimator or a Pipeline/ColumnTransformer */\n",
       "  background-color: var(--sklearn-color-background);\n",
       "}\n",
       "\n",
       "/* Toggleable label */\n",
       "#sk-container-id-1 label.sk-toggleable__label {\n",
       "  cursor: pointer;\n",
       "  display: block;\n",
       "  width: 100%;\n",
       "  margin-bottom: 0;\n",
       "  padding: 0.5em;\n",
       "  box-sizing: border-box;\n",
       "  text-align: center;\n",
       "}\n",
       "\n",
       "#sk-container-id-1 label.sk-toggleable__label-arrow:before {\n",
       "  /* Arrow on the left of the label */\n",
       "  content: \"▸\";\n",
       "  float: left;\n",
       "  margin-right: 0.25em;\n",
       "  color: var(--sklearn-color-icon);\n",
       "}\n",
       "\n",
       "#sk-container-id-1 label.sk-toggleable__label-arrow:hover:before {\n",
       "  color: var(--sklearn-color-text);\n",
       "}\n",
       "\n",
       "/* Toggleable content - dropdown */\n",
       "\n",
       "#sk-container-id-1 div.sk-toggleable__content {\n",
       "  max-height: 0;\n",
       "  max-width: 0;\n",
       "  overflow: hidden;\n",
       "  text-align: left;\n",
       "  /* unfitted */\n",
       "  background-color: var(--sklearn-color-unfitted-level-0);\n",
       "}\n",
       "\n",
       "#sk-container-id-1 div.sk-toggleable__content.fitted {\n",
       "  /* fitted */\n",
       "  background-color: var(--sklearn-color-fitted-level-0);\n",
       "}\n",
       "\n",
       "#sk-container-id-1 div.sk-toggleable__content pre {\n",
       "  margin: 0.2em;\n",
       "  border-radius: 0.25em;\n",
       "  color: var(--sklearn-color-text);\n",
       "  /* unfitted */\n",
       "  background-color: var(--sklearn-color-unfitted-level-0);\n",
       "}\n",
       "\n",
       "#sk-container-id-1 div.sk-toggleable__content.fitted pre {\n",
       "  /* unfitted */\n",
       "  background-color: var(--sklearn-color-fitted-level-0);\n",
       "}\n",
       "\n",
       "#sk-container-id-1 input.sk-toggleable__control:checked~div.sk-toggleable__content {\n",
       "  /* Expand drop-down */\n",
       "  max-height: 200px;\n",
       "  max-width: 100%;\n",
       "  overflow: auto;\n",
       "}\n",
       "\n",
       "#sk-container-id-1 input.sk-toggleable__control:checked~label.sk-toggleable__label-arrow:before {\n",
       "  content: \"▾\";\n",
       "}\n",
       "\n",
       "/* Pipeline/ColumnTransformer-specific style */\n",
       "\n",
       "#sk-container-id-1 div.sk-label input.sk-toggleable__control:checked~label.sk-toggleable__label {\n",
       "  color: var(--sklearn-color-text);\n",
       "  background-color: var(--sklearn-color-unfitted-level-2);\n",
       "}\n",
       "\n",
       "#sk-container-id-1 div.sk-label.fitted input.sk-toggleable__control:checked~label.sk-toggleable__label {\n",
       "  background-color: var(--sklearn-color-fitted-level-2);\n",
       "}\n",
       "\n",
       "/* Estimator-specific style */\n",
       "\n",
       "/* Colorize estimator box */\n",
       "#sk-container-id-1 div.sk-estimator input.sk-toggleable__control:checked~label.sk-toggleable__label {\n",
       "  /* unfitted */\n",
       "  background-color: var(--sklearn-color-unfitted-level-2);\n",
       "}\n",
       "\n",
       "#sk-container-id-1 div.sk-estimator.fitted input.sk-toggleable__control:checked~label.sk-toggleable__label {\n",
       "  /* fitted */\n",
       "  background-color: var(--sklearn-color-fitted-level-2);\n",
       "}\n",
       "\n",
       "#sk-container-id-1 div.sk-label label.sk-toggleable__label,\n",
       "#sk-container-id-1 div.sk-label label {\n",
       "  /* The background is the default theme color */\n",
       "  color: var(--sklearn-color-text-on-default-background);\n",
       "}\n",
       "\n",
       "/* On hover, darken the color of the background */\n",
       "#sk-container-id-1 div.sk-label:hover label.sk-toggleable__label {\n",
       "  color: var(--sklearn-color-text);\n",
       "  background-color: var(--sklearn-color-unfitted-level-2);\n",
       "}\n",
       "\n",
       "/* Label box, darken color on hover, fitted */\n",
       "#sk-container-id-1 div.sk-label.fitted:hover label.sk-toggleable__label.fitted {\n",
       "  color: var(--sklearn-color-text);\n",
       "  background-color: var(--sklearn-color-fitted-level-2);\n",
       "}\n",
       "\n",
       "/* Estimator label */\n",
       "\n",
       "#sk-container-id-1 div.sk-label label {\n",
       "  font-family: monospace;\n",
       "  font-weight: bold;\n",
       "  display: inline-block;\n",
       "  line-height: 1.2em;\n",
       "}\n",
       "\n",
       "#sk-container-id-1 div.sk-label-container {\n",
       "  text-align: center;\n",
       "}\n",
       "\n",
       "/* Estimator-specific */\n",
       "#sk-container-id-1 div.sk-estimator {\n",
       "  font-family: monospace;\n",
       "  border: 1px dotted var(--sklearn-color-border-box);\n",
       "  border-radius: 0.25em;\n",
       "  box-sizing: border-box;\n",
       "  margin-bottom: 0.5em;\n",
       "  /* unfitted */\n",
       "  background-color: var(--sklearn-color-unfitted-level-0);\n",
       "}\n",
       "\n",
       "#sk-container-id-1 div.sk-estimator.fitted {\n",
       "  /* fitted */\n",
       "  background-color: var(--sklearn-color-fitted-level-0);\n",
       "}\n",
       "\n",
       "/* on hover */\n",
       "#sk-container-id-1 div.sk-estimator:hover {\n",
       "  /* unfitted */\n",
       "  background-color: var(--sklearn-color-unfitted-level-2);\n",
       "}\n",
       "\n",
       "#sk-container-id-1 div.sk-estimator.fitted:hover {\n",
       "  /* fitted */\n",
       "  background-color: var(--sklearn-color-fitted-level-2);\n",
       "}\n",
       "\n",
       "/* Specification for estimator info (e.g. \"i\" and \"?\") */\n",
       "\n",
       "/* Common style for \"i\" and \"?\" */\n",
       "\n",
       ".sk-estimator-doc-link,\n",
       "a:link.sk-estimator-doc-link,\n",
       "a:visited.sk-estimator-doc-link {\n",
       "  float: right;\n",
       "  font-size: smaller;\n",
       "  line-height: 1em;\n",
       "  font-family: monospace;\n",
       "  background-color: var(--sklearn-color-background);\n",
       "  border-radius: 1em;\n",
       "  height: 1em;\n",
       "  width: 1em;\n",
       "  text-decoration: none !important;\n",
       "  margin-left: 1ex;\n",
       "  /* unfitted */\n",
       "  border: var(--sklearn-color-unfitted-level-1) 1pt solid;\n",
       "  color: var(--sklearn-color-unfitted-level-1);\n",
       "}\n",
       "\n",
       ".sk-estimator-doc-link.fitted,\n",
       "a:link.sk-estimator-doc-link.fitted,\n",
       "a:visited.sk-estimator-doc-link.fitted {\n",
       "  /* fitted */\n",
       "  border: var(--sklearn-color-fitted-level-1) 1pt solid;\n",
       "  color: var(--sklearn-color-fitted-level-1);\n",
       "}\n",
       "\n",
       "/* On hover */\n",
       "div.sk-estimator:hover .sk-estimator-doc-link:hover,\n",
       ".sk-estimator-doc-link:hover,\n",
       "div.sk-label-container:hover .sk-estimator-doc-link:hover,\n",
       ".sk-estimator-doc-link:hover {\n",
       "  /* unfitted */\n",
       "  background-color: var(--sklearn-color-unfitted-level-3);\n",
       "  color: var(--sklearn-color-background);\n",
       "  text-decoration: none;\n",
       "}\n",
       "\n",
       "div.sk-estimator.fitted:hover .sk-estimator-doc-link.fitted:hover,\n",
       ".sk-estimator-doc-link.fitted:hover,\n",
       "div.sk-label-container:hover .sk-estimator-doc-link.fitted:hover,\n",
       ".sk-estimator-doc-link.fitted:hover {\n",
       "  /* fitted */\n",
       "  background-color: var(--sklearn-color-fitted-level-3);\n",
       "  color: var(--sklearn-color-background);\n",
       "  text-decoration: none;\n",
       "}\n",
       "\n",
       "/* Span, style for the box shown on hovering the info icon */\n",
       ".sk-estimator-doc-link span {\n",
       "  display: none;\n",
       "  z-index: 9999;\n",
       "  position: relative;\n",
       "  font-weight: normal;\n",
       "  right: .2ex;\n",
       "  padding: .5ex;\n",
       "  margin: .5ex;\n",
       "  width: min-content;\n",
       "  min-width: 20ex;\n",
       "  max-width: 50ex;\n",
       "  color: var(--sklearn-color-text);\n",
       "  box-shadow: 2pt 2pt 4pt #999;\n",
       "  /* unfitted */\n",
       "  background: var(--sklearn-color-unfitted-level-0);\n",
       "  border: .5pt solid var(--sklearn-color-unfitted-level-3);\n",
       "}\n",
       "\n",
       ".sk-estimator-doc-link.fitted span {\n",
       "  /* fitted */\n",
       "  background: var(--sklearn-color-fitted-level-0);\n",
       "  border: var(--sklearn-color-fitted-level-3);\n",
       "}\n",
       "\n",
       ".sk-estimator-doc-link:hover span {\n",
       "  display: block;\n",
       "}\n",
       "\n",
       "/* \"?\"-specific style due to the `<a>` HTML tag */\n",
       "\n",
       "#sk-container-id-1 a.estimator_doc_link {\n",
       "  float: right;\n",
       "  font-size: 1rem;\n",
       "  line-height: 1em;\n",
       "  font-family: monospace;\n",
       "  background-color: var(--sklearn-color-background);\n",
       "  border-radius: 1rem;\n",
       "  height: 1rem;\n",
       "  width: 1rem;\n",
       "  text-decoration: none;\n",
       "  /* unfitted */\n",
       "  color: var(--sklearn-color-unfitted-level-1);\n",
       "  border: var(--sklearn-color-unfitted-level-1) 1pt solid;\n",
       "}\n",
       "\n",
       "#sk-container-id-1 a.estimator_doc_link.fitted {\n",
       "  /* fitted */\n",
       "  border: var(--sklearn-color-fitted-level-1) 1pt solid;\n",
       "  color: var(--sklearn-color-fitted-level-1);\n",
       "}\n",
       "\n",
       "/* On hover */\n",
       "#sk-container-id-1 a.estimator_doc_link:hover {\n",
       "  /* unfitted */\n",
       "  background-color: var(--sklearn-color-unfitted-level-3);\n",
       "  color: var(--sklearn-color-background);\n",
       "  text-decoration: none;\n",
       "}\n",
       "\n",
       "#sk-container-id-1 a.estimator_doc_link.fitted:hover {\n",
       "  /* fitted */\n",
       "  background-color: var(--sklearn-color-fitted-level-3);\n",
       "}\n",
       "</style><div id=\"sk-container-id-1\" class=\"sk-top-container\"><div class=\"sk-text-repr-fallback\"><pre>KMeans()</pre><b>In a Jupyter environment, please rerun this cell to show the HTML representation or trust the notebook. <br />On GitHub, the HTML representation is unable to render, please try loading this page with nbviewer.org.</b></div><div class=\"sk-container\" hidden><div class=\"sk-item\"><div class=\"sk-estimator fitted sk-toggleable\"><input class=\"sk-toggleable__control sk-hidden--visually\" id=\"sk-estimator-id-1\" type=\"checkbox\" checked><label for=\"sk-estimator-id-1\" class=\"sk-toggleable__label fitted sk-toggleable__label-arrow fitted\">&nbsp;&nbsp;KMeans<a class=\"sk-estimator-doc-link fitted\" rel=\"noreferrer\" target=\"_blank\" href=\"https://scikit-learn.org/1.4/modules/generated/sklearn.cluster.KMeans.html\">?<span>Documentation for KMeans</span></a><span class=\"sk-estimator-doc-link fitted\">i<span>Fitted</span></span></label><div class=\"sk-toggleable__content fitted\"><pre>KMeans()</pre></div> </div></div></div></div>"
      ],
      "text/plain": [
       "KMeans()"
      ]
     },
     "execution_count": 73,
     "metadata": {},
     "output_type": "execute_result"
    }
   ],
   "source": [
    "kmeans.fit(embeddings)"
   ]
  },
  {
   "cell_type": "code",
   "execution_count": 75,
   "metadata": {},
   "outputs": [],
   "source": [
    "#Reduce Dimensionality\n",
    "reducer = UMAP()\n",
    "embeddings_2d = reducer.fit_transform(embeddings.tolist())"
   ]
  },
  {
   "cell_type": "code",
   "execution_count": 76,
   "metadata": {},
   "outputs": [
    {
     "data": {
      "application/vnd.plotly.v1+json": {
       "config": {
        "plotlyServerURL": "https://plot.ly"
       },
       "data": [
        {
         "hovertemplate": "x=%{x}<br>y=%{y}<br>color=%{marker.color}<extra></extra>",
         "legendgroup": "",
         "marker": {
          "color": [
           3,
           0,
           0,
           3,
           4,
           4,
           0,
           0,
           4,
           4,
           4,
           4,
           4,
           4,
           2,
           2,
           5,
           4,
           5,
           5,
           4,
           6,
           2,
           2,
           7,
           5,
           6,
           1,
           2,
           1,
           1,
           5,
           1,
           5,
           3,
           0,
           0,
           2,
           5,
           5,
           2,
           3,
           1,
           0,
           0,
           1,
           1,
           1,
           7,
           7,
           5,
           3,
           3,
           3,
           0,
           0,
           0,
           0,
           0,
           0,
           0,
           0,
           0,
           0,
           3,
           0,
           7,
           7,
           1,
           3,
           0,
           0,
           1,
           1,
           1,
           2,
           5,
           7
          ],
          "coloraxis": "coloraxis",
          "symbol": "circle"
         },
         "mode": "markers",
         "name": "",
         "orientation": "v",
         "showlegend": false,
         "type": "scatter",
         "x": [
          2.9894652,
          4.3695874,
          4.264464,
          3.012795,
          1.0278172,
          1.1195588,
          4.2703595,
          4.019744,
          0.552151,
          0.28274158,
          0.33756825,
          0.014860376,
          0.3538294,
          0.07014699,
          0.047579966,
          0.45401832,
          1.096054,
          1.1889548,
          1.5904639,
          1.5933306,
          0.59780914,
          -7.53079,
          0.061801773,
          0.35292238,
          2.1776698,
          1.1177576,
          -7.3353257,
          -7.3440533,
          0.2684513,
          -7.251195,
          -7.7696586,
          1.4429358,
          -7.2107105,
          2.0641708,
          2.605325,
          4.481403,
          4.6560354,
          0.56808645,
          0.91740584,
          1.6228753,
          0.18254507,
          2.849215,
          -7.1961784,
          4.160508,
          4.475735,
          -7.5028987,
          -7.8782253,
          -7.270434,
          2.6086721,
          3.056593,
          2.2281773,
          2.3411174,
          2.5607626,
          1.7460446,
          4.606867,
          4.5587893,
          3.3208377,
          4.184126,
          3.6533785,
          3.2065523,
          3.4488995,
          3.3053746,
          3.4454381,
          3.5805216,
          1.9063455,
          2.9781902,
          2.8803852,
          3.1339097,
          -7.2329245,
          2.656824,
          4.2317677,
          4.371322,
          -7.5938296,
          -7.718437,
          -7.0493364,
          -0.015862565,
          1.3464104,
          2.1077983
         ],
         "xaxis": "x",
         "y": [
          4.632203,
          5.062057,
          5.4083424,
          4.393085,
          4.9978485,
          5.397125,
          5.168801,
          5.1266747,
          5.204418,
          5.3292933,
          5.156595,
          5.032449,
          4.9722548,
          5.221614,
          9.395297,
          9.4925785,
          9.0693865,
          5.5491605,
          8.179942,
          8.744368,
          5.0187182,
          10.540714,
          8.998608,
          8.956018,
          7.3743157,
          8.173758,
          10.45161,
          11.567984,
          9.27407,
          11.183881,
          11.09721,
          8.163102,
          10.985828,
          7.5575953,
          4.3167677,
          6.026235,
          6.7334313,
          9.279547,
          8.797289,
          8.489106,
          8.754372,
          4.509036,
          11.533592,
          5.6897507,
          5.6432815,
          10.96082,
          11.013808,
          10.841166,
          7.461097,
          7.3369846,
          7.867142,
          4.9399915,
          4.230854,
          5.550293,
          6.268002,
          6.64287,
          5.687375,
          6.712552,
          5.717401,
          6.1420193,
          5.7851186,
          6.117152,
          5.3973465,
          6.274355,
          5.803886,
          5.5271087,
          7.1589937,
          7.0786614,
          11.431657,
          4.5331993,
          6.1729603,
          6.9379053,
          11.153205,
          11.063943,
          10.871476,
          9.200103,
          8.325331,
          4.7314963
         ],
         "yaxis": "y"
        }
       ],
       "layout": {
        "coloraxis": {
         "colorbar": {
          "title": {
           "text": "color"
          }
         },
         "colorscale": [
          [
           0,
           "#0d0887"
          ],
          [
           0.1111111111111111,
           "#46039f"
          ],
          [
           0.2222222222222222,
           "#7201a8"
          ],
          [
           0.3333333333333333,
           "#9c179e"
          ],
          [
           0.4444444444444444,
           "#bd3786"
          ],
          [
           0.5555555555555556,
           "#d8576b"
          ],
          [
           0.6666666666666666,
           "#ed7953"
          ],
          [
           0.7777777777777778,
           "#fb9f3a"
          ],
          [
           0.8888888888888888,
           "#fdca26"
          ],
          [
           1,
           "#f0f921"
          ]
         ]
        },
        "legend": {
         "tracegroupgap": 0
        },
        "margin": {
         "t": 60
        },
        "template": {
         "data": {
          "bar": [
           {
            "error_x": {
             "color": "#2a3f5f"
            },
            "error_y": {
             "color": "#2a3f5f"
            },
            "marker": {
             "line": {
              "color": "#E5ECF6",
              "width": 0.5
             },
             "pattern": {
              "fillmode": "overlay",
              "size": 10,
              "solidity": 0.2
             }
            },
            "type": "bar"
           }
          ],
          "barpolar": [
           {
            "marker": {
             "line": {
              "color": "#E5ECF6",
              "width": 0.5
             },
             "pattern": {
              "fillmode": "overlay",
              "size": 10,
              "solidity": 0.2
             }
            },
            "type": "barpolar"
           }
          ],
          "carpet": [
           {
            "aaxis": {
             "endlinecolor": "#2a3f5f",
             "gridcolor": "white",
             "linecolor": "white",
             "minorgridcolor": "white",
             "startlinecolor": "#2a3f5f"
            },
            "baxis": {
             "endlinecolor": "#2a3f5f",
             "gridcolor": "white",
             "linecolor": "white",
             "minorgridcolor": "white",
             "startlinecolor": "#2a3f5f"
            },
            "type": "carpet"
           }
          ],
          "choropleth": [
           {
            "colorbar": {
             "outlinewidth": 0,
             "ticks": ""
            },
            "type": "choropleth"
           }
          ],
          "contour": [
           {
            "colorbar": {
             "outlinewidth": 0,
             "ticks": ""
            },
            "colorscale": [
             [
              0,
              "#0d0887"
             ],
             [
              0.1111111111111111,
              "#46039f"
             ],
             [
              0.2222222222222222,
              "#7201a8"
             ],
             [
              0.3333333333333333,
              "#9c179e"
             ],
             [
              0.4444444444444444,
              "#bd3786"
             ],
             [
              0.5555555555555556,
              "#d8576b"
             ],
             [
              0.6666666666666666,
              "#ed7953"
             ],
             [
              0.7777777777777778,
              "#fb9f3a"
             ],
             [
              0.8888888888888888,
              "#fdca26"
             ],
             [
              1,
              "#f0f921"
             ]
            ],
            "type": "contour"
           }
          ],
          "contourcarpet": [
           {
            "colorbar": {
             "outlinewidth": 0,
             "ticks": ""
            },
            "type": "contourcarpet"
           }
          ],
          "heatmap": [
           {
            "colorbar": {
             "outlinewidth": 0,
             "ticks": ""
            },
            "colorscale": [
             [
              0,
              "#0d0887"
             ],
             [
              0.1111111111111111,
              "#46039f"
             ],
             [
              0.2222222222222222,
              "#7201a8"
             ],
             [
              0.3333333333333333,
              "#9c179e"
             ],
             [
              0.4444444444444444,
              "#bd3786"
             ],
             [
              0.5555555555555556,
              "#d8576b"
             ],
             [
              0.6666666666666666,
              "#ed7953"
             ],
             [
              0.7777777777777778,
              "#fb9f3a"
             ],
             [
              0.8888888888888888,
              "#fdca26"
             ],
             [
              1,
              "#f0f921"
             ]
            ],
            "type": "heatmap"
           }
          ],
          "heatmapgl": [
           {
            "colorbar": {
             "outlinewidth": 0,
             "ticks": ""
            },
            "colorscale": [
             [
              0,
              "#0d0887"
             ],
             [
              0.1111111111111111,
              "#46039f"
             ],
             [
              0.2222222222222222,
              "#7201a8"
             ],
             [
              0.3333333333333333,
              "#9c179e"
             ],
             [
              0.4444444444444444,
              "#bd3786"
             ],
             [
              0.5555555555555556,
              "#d8576b"
             ],
             [
              0.6666666666666666,
              "#ed7953"
             ],
             [
              0.7777777777777778,
              "#fb9f3a"
             ],
             [
              0.8888888888888888,
              "#fdca26"
             ],
             [
              1,
              "#f0f921"
             ]
            ],
            "type": "heatmapgl"
           }
          ],
          "histogram": [
           {
            "marker": {
             "pattern": {
              "fillmode": "overlay",
              "size": 10,
              "solidity": 0.2
             }
            },
            "type": "histogram"
           }
          ],
          "histogram2d": [
           {
            "colorbar": {
             "outlinewidth": 0,
             "ticks": ""
            },
            "colorscale": [
             [
              0,
              "#0d0887"
             ],
             [
              0.1111111111111111,
              "#46039f"
             ],
             [
              0.2222222222222222,
              "#7201a8"
             ],
             [
              0.3333333333333333,
              "#9c179e"
             ],
             [
              0.4444444444444444,
              "#bd3786"
             ],
             [
              0.5555555555555556,
              "#d8576b"
             ],
             [
              0.6666666666666666,
              "#ed7953"
             ],
             [
              0.7777777777777778,
              "#fb9f3a"
             ],
             [
              0.8888888888888888,
              "#fdca26"
             ],
             [
              1,
              "#f0f921"
             ]
            ],
            "type": "histogram2d"
           }
          ],
          "histogram2dcontour": [
           {
            "colorbar": {
             "outlinewidth": 0,
             "ticks": ""
            },
            "colorscale": [
             [
              0,
              "#0d0887"
             ],
             [
              0.1111111111111111,
              "#46039f"
             ],
             [
              0.2222222222222222,
              "#7201a8"
             ],
             [
              0.3333333333333333,
              "#9c179e"
             ],
             [
              0.4444444444444444,
              "#bd3786"
             ],
             [
              0.5555555555555556,
              "#d8576b"
             ],
             [
              0.6666666666666666,
              "#ed7953"
             ],
             [
              0.7777777777777778,
              "#fb9f3a"
             ],
             [
              0.8888888888888888,
              "#fdca26"
             ],
             [
              1,
              "#f0f921"
             ]
            ],
            "type": "histogram2dcontour"
           }
          ],
          "mesh3d": [
           {
            "colorbar": {
             "outlinewidth": 0,
             "ticks": ""
            },
            "type": "mesh3d"
           }
          ],
          "parcoords": [
           {
            "line": {
             "colorbar": {
              "outlinewidth": 0,
              "ticks": ""
             }
            },
            "type": "parcoords"
           }
          ],
          "pie": [
           {
            "automargin": true,
            "type": "pie"
           }
          ],
          "scatter": [
           {
            "fillpattern": {
             "fillmode": "overlay",
             "size": 10,
             "solidity": 0.2
            },
            "type": "scatter"
           }
          ],
          "scatter3d": [
           {
            "line": {
             "colorbar": {
              "outlinewidth": 0,
              "ticks": ""
             }
            },
            "marker": {
             "colorbar": {
              "outlinewidth": 0,
              "ticks": ""
             }
            },
            "type": "scatter3d"
           }
          ],
          "scattercarpet": [
           {
            "marker": {
             "colorbar": {
              "outlinewidth": 0,
              "ticks": ""
             }
            },
            "type": "scattercarpet"
           }
          ],
          "scattergeo": [
           {
            "marker": {
             "colorbar": {
              "outlinewidth": 0,
              "ticks": ""
             }
            },
            "type": "scattergeo"
           }
          ],
          "scattergl": [
           {
            "marker": {
             "colorbar": {
              "outlinewidth": 0,
              "ticks": ""
             }
            },
            "type": "scattergl"
           }
          ],
          "scattermapbox": [
           {
            "marker": {
             "colorbar": {
              "outlinewidth": 0,
              "ticks": ""
             }
            },
            "type": "scattermapbox"
           }
          ],
          "scatterpolar": [
           {
            "marker": {
             "colorbar": {
              "outlinewidth": 0,
              "ticks": ""
             }
            },
            "type": "scatterpolar"
           }
          ],
          "scatterpolargl": [
           {
            "marker": {
             "colorbar": {
              "outlinewidth": 0,
              "ticks": ""
             }
            },
            "type": "scatterpolargl"
           }
          ],
          "scatterternary": [
           {
            "marker": {
             "colorbar": {
              "outlinewidth": 0,
              "ticks": ""
             }
            },
            "type": "scatterternary"
           }
          ],
          "surface": [
           {
            "colorbar": {
             "outlinewidth": 0,
             "ticks": ""
            },
            "colorscale": [
             [
              0,
              "#0d0887"
             ],
             [
              0.1111111111111111,
              "#46039f"
             ],
             [
              0.2222222222222222,
              "#7201a8"
             ],
             [
              0.3333333333333333,
              "#9c179e"
             ],
             [
              0.4444444444444444,
              "#bd3786"
             ],
             [
              0.5555555555555556,
              "#d8576b"
             ],
             [
              0.6666666666666666,
              "#ed7953"
             ],
             [
              0.7777777777777778,
              "#fb9f3a"
             ],
             [
              0.8888888888888888,
              "#fdca26"
             ],
             [
              1,
              "#f0f921"
             ]
            ],
            "type": "surface"
           }
          ],
          "table": [
           {
            "cells": {
             "fill": {
              "color": "#EBF0F8"
             },
             "line": {
              "color": "white"
             }
            },
            "header": {
             "fill": {
              "color": "#C8D4E3"
             },
             "line": {
              "color": "white"
             }
            },
            "type": "table"
           }
          ]
         },
         "layout": {
          "annotationdefaults": {
           "arrowcolor": "#2a3f5f",
           "arrowhead": 0,
           "arrowwidth": 1
          },
          "autotypenumbers": "strict",
          "coloraxis": {
           "colorbar": {
            "outlinewidth": 0,
            "ticks": ""
           }
          },
          "colorscale": {
           "diverging": [
            [
             0,
             "#8e0152"
            ],
            [
             0.1,
             "#c51b7d"
            ],
            [
             0.2,
             "#de77ae"
            ],
            [
             0.3,
             "#f1b6da"
            ],
            [
             0.4,
             "#fde0ef"
            ],
            [
             0.5,
             "#f7f7f7"
            ],
            [
             0.6,
             "#e6f5d0"
            ],
            [
             0.7,
             "#b8e186"
            ],
            [
             0.8,
             "#7fbc41"
            ],
            [
             0.9,
             "#4d9221"
            ],
            [
             1,
             "#276419"
            ]
           ],
           "sequential": [
            [
             0,
             "#0d0887"
            ],
            [
             0.1111111111111111,
             "#46039f"
            ],
            [
             0.2222222222222222,
             "#7201a8"
            ],
            [
             0.3333333333333333,
             "#9c179e"
            ],
            [
             0.4444444444444444,
             "#bd3786"
            ],
            [
             0.5555555555555556,
             "#d8576b"
            ],
            [
             0.6666666666666666,
             "#ed7953"
            ],
            [
             0.7777777777777778,
             "#fb9f3a"
            ],
            [
             0.8888888888888888,
             "#fdca26"
            ],
            [
             1,
             "#f0f921"
            ]
           ],
           "sequentialminus": [
            [
             0,
             "#0d0887"
            ],
            [
             0.1111111111111111,
             "#46039f"
            ],
            [
             0.2222222222222222,
             "#7201a8"
            ],
            [
             0.3333333333333333,
             "#9c179e"
            ],
            [
             0.4444444444444444,
             "#bd3786"
            ],
            [
             0.5555555555555556,
             "#d8576b"
            ],
            [
             0.6666666666666666,
             "#ed7953"
            ],
            [
             0.7777777777777778,
             "#fb9f3a"
            ],
            [
             0.8888888888888888,
             "#fdca26"
            ],
            [
             1,
             "#f0f921"
            ]
           ]
          },
          "colorway": [
           "#636efa",
           "#EF553B",
           "#00cc96",
           "#ab63fa",
           "#FFA15A",
           "#19d3f3",
           "#FF6692",
           "#B6E880",
           "#FF97FF",
           "#FECB52"
          ],
          "font": {
           "color": "#2a3f5f"
          },
          "geo": {
           "bgcolor": "white",
           "lakecolor": "white",
           "landcolor": "#E5ECF6",
           "showlakes": true,
           "showland": true,
           "subunitcolor": "white"
          },
          "hoverlabel": {
           "align": "left"
          },
          "hovermode": "closest",
          "mapbox": {
           "style": "light"
          },
          "paper_bgcolor": "white",
          "plot_bgcolor": "#E5ECF6",
          "polar": {
           "angularaxis": {
            "gridcolor": "white",
            "linecolor": "white",
            "ticks": ""
           },
           "bgcolor": "#E5ECF6",
           "radialaxis": {
            "gridcolor": "white",
            "linecolor": "white",
            "ticks": ""
           }
          },
          "scene": {
           "xaxis": {
            "backgroundcolor": "#E5ECF6",
            "gridcolor": "white",
            "gridwidth": 2,
            "linecolor": "white",
            "showbackground": true,
            "ticks": "",
            "zerolinecolor": "white"
           },
           "yaxis": {
            "backgroundcolor": "#E5ECF6",
            "gridcolor": "white",
            "gridwidth": 2,
            "linecolor": "white",
            "showbackground": true,
            "ticks": "",
            "zerolinecolor": "white"
           },
           "zaxis": {
            "backgroundcolor": "#E5ECF6",
            "gridcolor": "white",
            "gridwidth": 2,
            "linecolor": "white",
            "showbackground": true,
            "ticks": "",
            "zerolinecolor": "white"
           }
          },
          "shapedefaults": {
           "line": {
            "color": "#2a3f5f"
           }
          },
          "ternary": {
           "aaxis": {
            "gridcolor": "white",
            "linecolor": "white",
            "ticks": ""
           },
           "baxis": {
            "gridcolor": "white",
            "linecolor": "white",
            "ticks": ""
           },
           "bgcolor": "#E5ECF6",
           "caxis": {
            "gridcolor": "white",
            "linecolor": "white",
            "ticks": ""
           }
          },
          "title": {
           "x": 0.05
          },
          "xaxis": {
           "automargin": true,
           "gridcolor": "white",
           "linecolor": "white",
           "ticks": "",
           "title": {
            "standoff": 15
           },
           "zerolinecolor": "white",
           "zerolinewidth": 2
          },
          "yaxis": {
           "automargin": true,
           "gridcolor": "white",
           "linecolor": "white",
           "ticks": "",
           "title": {
            "standoff": 15
           },
           "zerolinecolor": "white",
           "zerolinewidth": 2
          }
         }
        },
        "xaxis": {
         "anchor": "y",
         "domain": [
          0,
          1
         ],
         "title": {
          "text": "x"
         }
        },
        "yaxis": {
         "anchor": "x",
         "domain": [
          0,
          1
         ],
         "title": {
          "text": "y"
         }
        }
       }
      }
     },
     "metadata": {},
     "output_type": "display_data"
    }
   ],
   "source": [
    "#Visualize Cluster\n",
    "fig = px.scatter(x=embeddings_2d[:, 0], y=embeddings_2d[:, 1], color=kmeans.labels_)\n",
    "fig.show()"
   ]
  },
  {
   "cell_type": "markdown",
   "metadata": {},
   "source": [
    "## Fine-Tuning + Prompt Engineering"
   ]
  },
  {
   "cell_type": "markdown",
   "metadata": {},
   "source": [
    "### Assigned Label Clusters"
   ]
  },
  {
   "cell_type": "code",
   "execution_count": 78,
   "metadata": {},
   "outputs": [],
   "source": [
    "import numpy as np\n",
    "\n",
    "matrix = np.stack(df[\"embedding\"].values)\n",
    "\n",
    "from sklearn.cluster import KMeans\n",
    "\n",
    "n_clusters = 8\n",
    "\n",
    "kmeans = KMeans(n_clusters=n_clusters, init=\"k-means++\", random_state=42)\n",
    "kmeans.fit(matrix)\n",
    "\n",
    "labels = kmeans.labels_\n",
    "df[\"Cluster\"] = labels.astype(str)  # Convert labels to string type"
   ]
  },
  {
   "cell_type": "code",
   "execution_count": null,
   "metadata": {},
   "outputs": [],
   "source": [
    "import seaborn as sns\n",
    "import matplotlib"
   ]
  },
  {
   "cell_type": "code",
   "execution_count": 79,
   "metadata": {},
   "outputs": [],
   "source": [
    "df['Cluster'] = df['Cluster'].astype(int)"
   ]
  },
  {
   "cell_type": "code",
   "execution_count": 81,
   "metadata": {},
   "outputs": [
    {
     "name": "stdout",
     "output_type": "stream",
     "text": [
      "Cluster 0 Anomalies: Based on the provided Azure Service Bus error logs, several patterns and anomalies can be identified. These patterns suggest issues related to timeouts, aborted operations, and missing messaging entities. Here's a summary of the identified patterns:\n",
      "\n",
      "1. **Timeout Issues:**\n",
      "   - Several log messages indicate that operations are being aborted due to timeouts. This suggests that the Service Bus is not able to complete certain operations within the allotted time frame. This could be due to network latency, resource constraints, or inefficient processing.\n",
      "   - Example log messages:\n",
      "     - \"The operation did not complete within the allotted timeout of 00:01:05.\"\n",
      "     - \"The operation did not complete within the allotted timeout of 00:02:00.\"\n",
      "\n",
      "2. **Aborted Operations:**\n",
      "   - Multiple log entries mention that messaging objects are being aborted. This could be due to various reasons such as internal errors, resource limitations, or unexpected conditions that cause the Service Bus to terminate the operation.\n",
      "   - Example log messages:\n",
      "     - \"FlowControlMessageReceiver aborted.\"\n",
      "     - \"ProtocolMessageConsumer aborted.\"\n",
      "     - \"ProtocolMessagePublisher aborted.\"\n",
      "\n",
      "3. **Missing Messaging Entities:**\n",
      "   - At least one log message indicates that a messaging entity could not be found. This suggests that there might be a configuration issue or the entity has been deleted or not yet created.\n",
      "   - Example log message:\n",
      "     - \"The messaging entity 'test05-ews-sea-svb:Topic:pt.topic.bulkbookingverify.\n",
      "\"Aborting messaging object. Name = mt2-prd-sea-servicebus:Topic:dailyp\n",
      "\"Aborting messaging object. Name = sb-seas044000-009-servicebus:Topic:\n",
      "\"Aborting messaging object. Name = srikandi:queue:sfidyanamap~223, Obj\n",
      "\"Aborting messaging object. Name = , Object type = Microsoft.Applicati\n",
      "\"Aborting messaging object. Name = , Object type = Microsoft.Applicati\n",
      "\"Aborting messaging object. Name = test05-ews-sea-svb:Topic:pt.topic.b\n",
      "\"Aborting messaging object. Name = sbk-qa-mobile:Queue:mobileserviceya\n",
      "\"Aborting messaging object. Name = srikandi:Queue:sfidyanamap~223, Obj\n",
      "\"Aborting messaging object. Name = seapod01srs1sbpk732:queue:srsarginl\n",
      "\"Aborting messaging object. Name = migratesbns1369199887:topic:snapsho\n",
      "Cluster 1 Anomalies: The provided error logs from Microsoft Azure Service Bus indicate a recurring issue with the entity size of a specific topic. The error messages are consistently reporting a `QuotaExceededException`, which means that the size of the entity (in this case, a topic) has surpassed the maximum allowed size limit. Here are the identified patterns and anomalies:\n",
      "\n",
      "1. **QuotaExceededException**: All the error messages are instances of `QuotaExceededException`. This exception is thrown when a quota, such as the maximum size of a Service Bus entity, is exceeded.\n",
      "\n",
      "2. **Entity Size Exceeded**: The logs repeatedly mention that the maximum entity size has been reached or exceeded for the topic named `pulseqa3sbus:Topic:concentrix.zetta.messagebroker.contracts/coachingdevelopmentactivityduedatemessage`.\n",
      "\n",
      "3. **Specific Topic Affected**: All errors are associated with the same topic, indicating that the problem is isolated to this particular entity within the Service Bus namespace.\n",
      "\n",
      "4. **Size Details**: The size of the entity is consistently reported to be `1553357987` bytes or more, which is over the maximum allowed size of `1073741824` bytes (approximately 1 GB).\n",
      "\n",
      "5. **Tracking IDs and Exception IDs**: Each error log contains a unique `TrackingId` and `ExceptionId`, which can be used for further investigation and correlation of the issue across different system components or logs.\n",
      "\n",
      "6. **SubsystemId**: The `SubsystemId\n",
      "\"MessageLog failed to send messages. TrackingId: 7478135e0000fd7700000\n",
      "\"An exception was handled. TrackingId: 1af5cece-53d1-43cc-9e37-888841d\n",
      "\"Amqp publish failed. TrackingId: 7478135e0000fd770000046664e0633c_G9_\n",
      "\"Amqp publish failed. TrackingId: 7478135e0000fd770000046664e0633c_G9_\n",
      "\"An exception was handled. TrackingId: 1af5cece-53d1-43cc-9e37-888841d\n",
      "\"MessageLog failed to send messages. TrackingId: 7478135e0000fd7700000\n",
      "\"An exception was handled. TrackingId: 1af5cece-53d1-43cc-9e37-888841d\n",
      "\"Affected entity name = pulseqa3sbus:Topic:concentrix.zetta.messagebro\n",
      "\"Amqp publish failed. TrackingId: 7478135e0000fd770000046664e0633c_G9_\n",
      "\"Affected entity name = pulseqa3sbus:Topic:concentrix.zetta.messagebro\n",
      "Cluster 2 Anomalies: Based on the provided Azure Service Bus error logs, we can identify several patterns or anomalies:\n",
      "\n",
      "1. **Entity Not Found Errors:**\n",
      "   - These errors indicate that the Service Bus is unable to locate the specified messaging entity (such as a topic or subscription). This could be due to the entity being deleted, misnamed, or not yet created.\n",
      "   - Example log message: \"The messaging entity 'test05-ews-sea-svb:Topic:pt.topic.bulkbookingverify.ingestion|sendgrid.service.bulkverification.collector' could not be found.\"\n",
      "\n",
      "2. **Timeout Errors:**\n",
      "   - A recurring issue is operations not completing within the allotted timeout period. This could be due to network latency, resource constraints, or the Service Bus being overloaded with requests.\n",
      "   - Example log message: \"The operation did not complete within the allotted timeout of 00:02:00.\"\n",
      "\n",
      "3. **Protocol Client Open Failures:**\n",
      "   - There are multiple instances where the protocol client of type 'AmqpMessageConsumer' or 'SoapMessageGroupConsumer' fails to open. This could be related to connectivity issues, configuration errors, or problems with the Service Bus itself.\n",
      "   - Example log message: \"Protocol client of type 'AmqpMessageConsumer' Open failed.\"\n",
      "\n",
      "4. **PeekLock Mode Issues:**\n",
      "   - Errors are occurring in the context of the PeekLock mode, which is a message retrieval mode where the message is locked for processing but not deleted until the\n",
      "\"Protocol client of type 'AmqpMessageConsumer' Open failed. Affected e\n",
      "\"Protocol client of type 'SoapMessageGroupConsumer' Open failed. Affec\n",
      "\"Protocol client of type 'AmqpMessageConsumer' Open failed. Affected e\n",
      "\"Protocol client of type 'AmqpMessageConsumer' Open failed. Affected e\n",
      "\"SbmpMessageReceiver.AcceptMessageSession is completing due to error: \n",
      "\"SbmpMessageReceiver.AcceptMessageSession is completing due to error: \n",
      "\"Protocol client of type 'AmqpMessageConsumer' Open failed. Affected e\n",
      "\"Protocol client of type 'AmqpMessageConsumer' Open failed. Affected e\n",
      "\"Protocol client of type 'AmqpMessageConsumer' Open failed. Affected e\n",
      "\"Protocol client of type 'SoapMessageGroupConsumer' Open failed. Affec\n",
      "Cluster 3 Anomalies: The provided Azure Service Bus error logs indicate several issues related to the messaging objects associated with the queue named \"order_pages_fetch_queue\" within the \"mcapseamaasdev\" namespace. The following patterns and anomalies have been identified:\n",
      "\n",
      "1. **Idle Timeout Expired**:\n",
      "   - The first log entry indicates that an `AmqpControlProtocolClient` object has encountered an idle timeout of 10 minutes (`00:10:00`). This suggests that the connection was idle for too long, which triggered the timeout and resulted in the object being faulted.\n",
      "\n",
      "2. **Aborted Messaging Objects**:\n",
      "   - Multiple log entries show that various messaging objects are being aborted. The reasons for the abortion are related to either the `AmqpControlProtocolClient` being aborted or other messaging objects like `FlowControlMessageReceiver` and `BrokerMessageBrowser` being aborted.\n",
      "\n",
      "3. **Object Types Involved**:\n",
      "   - The affected object types include `AmqpControlProtocolClient`, `FlowControlMessageSender`, `FlowControlMessageReceiver`, `BrokerMessageBrowser`, `PeekLockMessageReceiver`, and `ReceiveAndDeleteMessageReceiver`. These represent different components of the Service Bus that handle message sending, receiving, browsing, and different message consumption patterns (PeekLock and ReceiveAndDelete).\n",
      "\n",
      "4. **Communication Object Faulted**:\n",
      "   - One of the log entries indicates that an `AmqpControlProtocolClient` has entered a faulted state due to a `System.ServiceModel.Communication\n",
      "\"Faulting messaging object due to an error. Name = mcapseamaasdev:Queu\n",
      "\"Aborting messaging object. Name = mcapseamaasdev:Queue:order_pages_fe\n",
      "\"Aborting messaging object. Name = mcapseamaasdev:Queue:order_pages_fe\n",
      "\"Aborting messaging object. Name = mcapseamaasdev:Queue:order_pages_fe\n",
      "\"Aborting messaging object. Name = mcapseamaasdev:Queue:order_pages_fe\n",
      "\"Aborting messaging object. Name = mcapseamaasdev:Queue:order_pages_fe\n",
      "\"Aborting messaging object. Name = mcapseamaasdev:Queue:order_pages_fe\n",
      "\"Aborting messaging object. Name = mcapseamaasdev:Queue:order_pages_fe\n",
      "\"Aborting messaging object. Name = mcapseamaasdev:Queue:order_pages_fe\n",
      "Cluster 4 Anomalies: The provided error logs indicate a recurring issue with the Azure Service Bus entities, specifically with the AMQP links being force detached due to an idle timeout. Here's a summary of the identified patterns or anomalies:\n",
      "\n",
      "1. **Force Detached Links**: Both logs mention that the AMQP link is \"force detached.\" This suggests that the Service Bus is terminating the link proactively, which is not a normal closure initiated by the client.\n",
      "\n",
      "2. **Idle Timeout**: The reason given for the force detachment is an \"Idle timeout\" of 00:10:00 (10 minutes). This indicates that the link was considered idle for a period long enough to trigger the Service Bus's idle timeout policy, which then resulted in the link being closed.\n",
      "\n",
      "3. **ServerError Code**: The error logs are marked with a \"Code: ServerError,\" which implies that the issue is on the server side of the Service Bus rather than being a client-induced error.\n",
      "\n",
      "4. **Affected Entities**: The errors affect different entities within the Service Bus namespace:\n",
      "   - `bl-uat-moderation:Topic:delete-entity-requested|social-deletecomment`\n",
      "   - `mcapseamaasdev:Queue:order_pages_fetch_queue`\n",
      "   \n",
      "   These entities are part of different namespaces (`bl-uat-moderation` and `mcapseamaasdev`) and represent a topic and a queue, respectively.\n",
      "\n",
      "5. **Management Links**: The links mentioned in the logs are management links (`$management:64881:\n",
      "\"An exception was handled. TrackingId: 9531470a-2536-4fa9-ab86-6332181\n",
      "\"The AmqpProtocolClient is being closed with the underlying link remai\n",
      "\"An exception was handled. TrackingId: a0185f50-a60c-4e54-abb6-fc77174\n",
      "\"The AmqpProtocolClient is being closed with the underlying link remai\n",
      "Cluster 5 Anomalies: The provided error logs from Microsoft Azure Service Bus indicate a recurring issue with multiple messaging objects. The common pattern or anomaly identified in these logs is related to an \"IdleTimerExpired\" error. Here's a summary of the identified patterns:\n",
      "\n",
      "1. **Error Type**: All the errors are of the same type, which is `IdleTimerExpired`. This suggests that the messaging objects are being faulted due to a timeout condition where they have been idle for a specific duration, in this case, 10 minutes (`00:10:00`).\n",
      "\n",
      "2. **Affected Components**:\n",
      "   - `SoapMessageConsumer`: This component is responsible for consuming messages. Multiple instances of `SoapMessageConsumer` have been faulted across different queues (e.g., `srikandi:queue:sfidyanamap~223`, `srikandi:queue:sfidyanamap~143`, `sbk-qa-mobile:Queue:mobileserviceyanamap`).\n",
      "   - `SoapMessagePublisher`: This component is responsible for publishing messages to the queue. It has also experienced the same idle timeout issue (e.g., `seapod01rcm1sbnspk732:queue:rcmmonitoringagentlogs~239`, `seapod01srs1sbpk732:queue:srsarginlinesync~175`).\n",
      "\n",
      "3. **Queue Names**: The errors are associated with different queues, indicating that the issue is not isolated to a single queue or topic but\n",
      "\"Faulting messaging object due to an error. Name = srikandi:queue:sfid\n",
      "\"Faulting messaging object due to an error. Name = srikandi:queue:sfid\n",
      "\"Faulting messaging object due to an error. Name = seapod01rcm1sbnspk7\n",
      "\"Faulting messaging object due to an error. Name = sbk-qa-mobile:Queue\n",
      "\"Faulting messaging object due to an error. Name = seapod01rcm1sbnspk7\n",
      "\"Faulting messaging object due to an error. Name = seapod01srs1sbpk732\n",
      "Cluster 6 Anomalies: Based on the provided error logs, we can identify the following patterns or anomalies:\n",
      "\n",
      "1. **Negative Entity Size**: The first two log entries indicate that the entity size has become negative. This is an unusual situation as the size of an entity, which typically represents the total size of messages in the queue, should not be negative. The entity in question is a queue with the name `trac-notification-sendemail~79` within the `trac-omni-prod` namespace.\n",
      "\n",
      "2. **Consistent Entity and Incoming Size Decrease**: Both log entries show a decrease in the entity size and incoming size by similar amounts (-262 and -265 for entity size, -984 and -987 for incoming size), which suggests a pattern or recurring issue that is affecting the size of the entity.\n",
      "\n",
      "3. **Active, Scheduled, and DeadLetter Message Counts**: The active message count is 2 for both entries, the scheduled message count is 0, and the dead letter message count is 1. These counts are consistent across both log entries, indicating that the queue has messages in it, but there is also a message in the dead letter queue, which could be a sign of an issue with processing messages.\n",
      "\n",
      "4. **Out-of-Context Log Entry**: The third log entry appears to be out of context and does not relate to the Azure Service Bus error logs. It seems to be a quote from \"The Lord of the Rings\" and does not provide any technical information about the state\n",
      "\"Entity size became negative. Entity name = trac-omni-prod:Queue:trac-\n",
      "\"Entity size became negative. Entity name = trac-omni-prod:Queue:trac-\n",
      "\"Let this be the hour when we draw swords together. Fell deeds awake. \n",
      "Cluster 7 Anomalies: The provided error logs from Azure Service Bus indicate several issues related to the messaging objects within a specific topic named \"delete-entity-requested|social-deletecomment\" in the \"bl-uat-moderation\" namespace. The following patterns and anomalies have been identified:\n",
      "\n",
      "1. **Idle Timeout Expired**:\n",
      "   - The first log entry indicates an `IdleTimerExpired` error with a timeout period of 10 minutes (`00:10:00`). This suggests that the messaging object was waiting for an operation to complete, but it exceeded the allowed idle time, leading to the faulting of the object.\n",
      "\n",
      "2. **Repeated Aborting of Messaging Objects**:\n",
      "   - Multiple log entries show that various messaging objects are being aborted. The reasons provided include the `AmqpControlProtocolClient` being aborted and the `FlowControlMessageReceiver` being aborted. This indicates a recurring issue with the messaging objects that are being terminated unexpectedly.\n",
      "\n",
      "3. **Object Types Involved**:\n",
      "   - The affected object types include `AmqpControlProtocolClient`, `FlowControlMessageReceiver`, `BrokerMessageBrowser`, `PeekLockMessageReceiver`, and `ReceiveAndDeleteMessageReceiver`. These represent different components within the Service Bus that handle message operations such as sending, receiving, and browsing messages.\n",
      "\n",
      "4. **Communication Object in Faulted State**:\n",
      "   - One of the log entries mentions a `System.ServiceModel.CommunicationObjectFaultedException`, indicating that an `AmqpControlProtocolClient` object has entered a\n",
      "\"Faulting messaging object due to an error. Name = bl-uat-moderation:T\n",
      "\"Aborting messaging object. Name = bl-uat-moderation:Topic:delete-enti\n",
      "\"Aborting messaging object. Name = bl-uat-moderation:Topic:delete-enti\n",
      "\"Aborting messaging object. Name = bl-uat-moderation:Topic:delete-enti\n",
      "\"Aborting messaging object. Name = bl-uat-moderation:Topic:delete-enti\n",
      "\"Aborting messaging object. Name = bl-uat-moderation:Topic:delete-enti\n",
      "\"Aborting messaging object. Name = bl-uat-moderation:Topic:delete-enti\n",
      "\"Aborting messaging object. Name = bl-uat-moderation:Topic:delete-enti\n"
     ]
    }
   ],
   "source": [
    "import openai\n",
    "\n",
    "# Number of error logs to review per cluster\n",
    "logs_per_cluster = 10\n",
    "\n",
    "for i in range(n_clusters):\n",
    "    print(f\"Cluster {i} Anomalies:\", end=\" \")\n",
    "\n",
    "    # Filter the DataFrame for the current cluster\n",
    "    cluster_df = review_df[review_df.Cluster == i]\n",
    "\n",
    "    # Check if there are enough logs in the cluster to sample from\n",
    "    if len(cluster_df) >= logs_per_cluster:\n",
    "        # Extract a sample of error logs from each cluster\n",
    "        error_logs = \"\\n\".join(\n",
    "            cluster_df[\"message\"]\n",
    "            .sample(n=logs_per_cluster, random_state=42)\n",
    "            .values\n",
    "        )\n",
    "    else:\n",
    "        # If not enough logs, use whatever is available\n",
    "        error_logs = \"\\n\".join(cluster_df[\"message\"].values)\n",
    "    \n",
    "    # Create a prompt for GPT-4-5 turbo to analyze the error logs\n",
    "    response = client.chat.completions.create(\n",
    "        model=\"gpt-4-1106-preview\",\n",
    "        #Fine-Tune the Message Prompt\n",
    "        messages=[\n",
    "            {\"role\": \"system\", \"content\": \"You are providing data analysis on Microsoft Azure Service Bus error log messages. This cloud service is designed to facilitate communication between applications and services. In analyzing Azure Service Bus error logs, common issues fall into categories such as permissions, connectivity, sender, receiver, processor, and transaction-related problems. These encompass handling Service Bus exceptions, managing access rights, addressing network connection challenges, troubleshooting message sending and receiving difficulties, resolving processor operation concerns, and navigating transaction complexities. Your primary role is identifying log error patterns clustered around a suspected anomaly and summarizing what the clusters of log messages represent.\"},\n",
    "            {\"role\": \"user\", \"content\": f'Error Logs:\\n\"\"\"\\n{error_logs}\\n\"\"\"\\n\\nIdentified Patterns or Anomalies:'}\n",
    "        ],\n",
    "        temperature=0.1,\n",
    "        max_tokens=300,  # Adjusted max_tokens for potentially more detailed analysis\n",
    "        top_p=1,\n",
    "        frequency_penalty=0,\n",
    "        presence_penalty=0,\n",
    "    )\n",
    "    print(response.choices[0].message.content.strip())\n",
    "\n",
    "    # Optionally, display additional information from the sampled logs\n",
    "    # Check again if there are enough logs\n",
    "    if len(cluster_df) >= logs_per_cluster:\n",
    "        sample_cluster_logs = cluster_df.sample(n=logs_per_cluster, random_state=42)\n",
    "    else:\n",
    "        sample_cluster_logs = cluster_df\n",
    "\n",
    "    for j in range(len(sample_cluster_logs)):\n",
    "        print(sample_cluster_logs.iloc[j].get('message', '')[:70])  # Display the first part of the error log"
   ]
  },
  {
   "cell_type": "code",
   "execution_count": null,
   "metadata": {},
   "outputs": [],
   "source": []
  }
 ],
 "metadata": {
  "kernelspec": {
   "display_name": "Python 3",
   "language": "python",
   "name": "python3"
  },
  "language_info": {
   "codemirror_mode": {
    "name": "ipython",
    "version": 3
   },
   "file_extension": ".py",
   "mimetype": "text/x-python",
   "name": "python",
   "nbconvert_exporter": "python",
   "pygments_lexer": "ipython3",
   "version": "3.12.2"
  }
 },
 "nbformat": 4,
 "nbformat_minor": 2
}
